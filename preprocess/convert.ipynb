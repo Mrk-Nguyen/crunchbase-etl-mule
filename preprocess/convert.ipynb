{
 "cells": [
  {
   "cell_type": "code",
   "execution_count": 1,
   "metadata": {},
   "outputs": [],
   "source": [
    "import pandas as pd"
   ]
  },
  {
   "cell_type": "code",
   "execution_count": 2,
   "metadata": {},
   "outputs": [],
   "source": [
    "companies = ('marketo','sitecore','sailthru','agilone','searchignite','neustar',\n",
    "'tealium','ensighten','v12-group','terdata','idg-ventures','forrester-research',\n",
    "'the-walt-disney-company','mondelez-international','edmunds-com','eyeota','stirista',\n",
    "'conagra-inc','interactive-advertising-bureau-iab','nikkei','adroll-semantic-sugar-inc',\n",
    "'demandmedia','a-e-television-networks','vox-media','gartner','jetblue-airways','kellogg'\n",
    ")\n",
    "\n",
    "companies2 = ('bazaarvoice','centro','digital-trends','e-trade','financial-times',\n",
    "'foxtel-management-pty-ltd','the-guardian','dailymotion')\n",
    "\n",
    "companies3 = ('turner-broadcasting','warner-bros','roku','sling-com','fandango',\n",
    "'flixster','dramafever','bleacher-report','istreamplanet','refinery29','mashable')\n",
    "\n",
    "companies4 = ('le-figaro','keurig','mitsubishi','rea-group',\n",
    "'shutterstock','the-enthusiast-network','time','tribunecompany','wenner-media',\n",
    "'whosay','wikia','choicestream','videoamp','admobius','idg-enterprise',\n",
    "'accel-partners','firefox')\n",
    "\n",
    "companies5 = ('above-average','nielsen','cbs','sony','21st-century-fox','freewheel','comcast')\n",
    "\n",
    "companies6 = ('uninterrupted','espn','nba','tnt','aol','activision','cnn-com',\n",
    "'fanduel','cartoon-network','adult-swim','warner-bros-interactive-entertainment',\n",
    "'vaporchat','locket','videogram','dish-network','media-camp',\n",
    "'digitaslbi','mediabrands','mlb-advanced-media','engadget','buzzfeed','the-frisky','sezmi',\n",
    "'nba-tv','chili','t-mobile','turbine','gamesbeat','samsung-electronics',\n",
    "'tmz','dc-comics')\n",
    "\n",
    "companies7 = ('applause','magic-leap','wanda-group','legendary-entertainment',\n",
    "'paramount-pictures','stx-entertainment','the-cw-network','dreamworks-studios',\n",
    "'pixar','amblin-entertainment-i-connexion','oculus-vr','whatsapp','instagram',\n",
    "'universal-studios','insightpool','datasift','daydream','quickflix',\n",
    "'foxtel-management-pty-ltd','directv','kaltura','marvel-entertainment','lions-gate-entertainment-corp','starz','apple-tv','amazon-fire-tv',\n",
    "'vimeo','bittorrent','otoy')\n",
    "\n",
    "companies8 = ('philo','funny-or-die','bamtech', 'playbuzz','atom-tickets',\n",
    "'naritiv','jaunt','orbotix','statmuse','pley','maker-studios','babble','rocket-pack',\n",
    "'playdom','tapulous','kaboose','kerpoof','fanlib','ideal-bite','nowthis-news')\n",
    "\n",
    "companiesSalesforceAcquisitions= ('datorama','rebel','mulesoft','zorap','cloudcraze-llc',\n",
    "'attic-labs','krux','stypi','dimdim','choicepass','thinkfuse','prior-knowledge',\n",
    "'model-metrics','relateiq','jigsaw','sendia','kieden','kenlet','koral','instranet','groupswim',\n",
    "'informavores','sitemasher','activa-live','heroku','etacts',\n",
    "'manymoon','radian6','model-metrics','rypple','stypi','buddymedia','choicepass',\n",
    "'thinkfuse','goinstant','entropysoft','clipboard','exacttarget',\n",
    "'edgespring','toopher','tempo','akta','minhash','steelbrick','prediction-io',\n",
    "'implisit','demandware', 'coolan','quip','beyondcore','gravitytank','twin-prime-inc',\n",
    "'sequence')\n",
    "\n",
    "## attic-labs, kenlet did not run\n",
    "\n",
    "#cant find 'navajo-security' 'blue-tail'\n",
    "\n",
    "companiesSalesforcePartners = ('google','ibm','apple','twitter','facebook')\n",
    "\n",
    "# google got to i=111 04-23-2018 earliest article\n",
    "\n",
    "# according to gartner and other CRM altnernative sites\n",
    "# https://www.gartner.com/reviews/market/crm-customer-engagement-center/vendor/salesforce/alternatives\n",
    "companiesSalesforceCompetitors = ('zendesk',\n",
    "'service-now-com','infor', 'zoho','crmnext','pegasystems','genesys','talisma', 'Aptean', 'freshworks',\n",
    "'logmein','netsuite','mothernode','nimble-crm','infusionsoft',\n",
    "'sugarcrm','planplus-online','bpmonline','pipelinersales-corporation','workbooks','leadmaster',\n",
    "'insightly','prophet', 'goldmine-software', 'tableau', 'oracle','adobe','sap','microsoft', 'linkedin')\n",
    "\n",
    "## SAP only went to i=119 or 10-01-2011 earliest article date\n",
    "## microsoft went to i=110 or 01-26-2018 earliest article date, started at 110 went to 225\n",
    "## linkedin went to i=118 or 07-21-2016 earliest article date\n",
    "\n",
    "companiesSalesforceClients = ('keurig','anheauser-busch', 'turner', 'warner-bros',\n",
    "'marriot','adidas')\n",
    "\n",
    "# 2010 onward acquisitions\n",
    "companiesOracleAcquisitions = ('datascience-inc-','vocado','grapeshot','zenedge','aconex',\n",
    "'moat','wercker','apiary','dyn','apprity','logfire','netsuite','opower','textura',\n",
    "'crosswise','ravello-systems','addthis','stackengine','maxymiser','cloudmonkey',\n",
    "'datalogix','front-porch-digital','toa-technologies','micros-systems','live-look',\n",
    "'greenbytes','bluekai','corente','responsys','nirvanix','bitzer-mobile','bigmachines',\n",
    "'compendium-blogware', 'tekelec-international','nimbula','acme-packet','eloqua','dataraker','instantis',\n",
    "'selectminds','xsigo','skire','involver','collective-intellect','vitrue',\n",
    "'cleartrial','taleo','rightnow-technologies','endeca','goahead-software','inquira',\n",
    "'ksplice','fatwire-software','pillar-data-systems','datanomic','atg-arttechnologygroup',\n",
    "'prepaid-software','market2lead','secerno','phase-forward','amberpoint','convergin',\n",
    "'sun-microsystems','silver-creek-systems')\n",
    "\n",
    "## Oracle acquisitions cant find prepaid software\n",
    "\n",
    "#2010 onward acquisitions adobe\n",
    "#2010 onward acquisitions SAP\n",
    "#2010 onward acquisitions microsoft\n"
   ]
  },
  {
   "cell_type": "code",
   "execution_count": 9,
   "metadata": {},
   "outputs": [],
   "source": [
    "all_org = companies + companies2 + companies3 + companies4 + companies5 + companies6 + companies7 + \\\n",
    "          companies8 + companiesSalesforceAcquisitions + companiesSalesforcePartners + companiesSalesforceClients + \\\n",
    "          companiesOracleAcquisitions"
   ]
  },
  {
   "cell_type": "code",
   "execution_count": 10,
   "metadata": {},
   "outputs": [],
   "source": [
    "all_org_unique = set(all_org)"
   ]
  },
  {
   "cell_type": "code",
   "execution_count": 19,
   "metadata": {},
   "outputs": [],
   "source": [
    "df = pd.DataFrame({\"company\": list(all_org_unique)}).sort_values(\"company\")"
   ]
  },
  {
   "cell_type": "code",
   "execution_count": 20,
   "metadata": {},
   "outputs": [],
   "source": [
    "df.to_csv(\"company_list.csv\",index=False)"
   ]
  },
  {
   "cell_type": "code",
   "execution_count": null,
   "metadata": {},
   "outputs": [],
   "source": []
  }
 ],
 "metadata": {
  "kernelspec": {
   "display_name": "Python 3",
   "language": "python",
   "name": "python3"
  },
  "language_info": {
   "codemirror_mode": {
    "name": "ipython",
    "version": 3
   },
   "file_extension": ".py",
   "mimetype": "text/x-python",
   "name": "python",
   "nbconvert_exporter": "python",
   "pygments_lexer": "ipython3",
   "version": "3.7.0"
  }
 },
 "nbformat": 4,
 "nbformat_minor": 2
}
